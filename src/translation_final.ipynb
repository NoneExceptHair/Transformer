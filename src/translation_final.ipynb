{
 "cells": [
  {
   "cell_type": "markdown",
   "metadata": {},
   "source": [
    "# Project for Machine Learning\n",
    "- Key words: `NMT`, `Transformer`, `PyTorch`, `Multi30k`"
   ]
  },
  {
   "cell_type": "code",
   "execution_count": 1,
   "metadata": {},
   "outputs": [],
   "source": [
    "import time\r\n",
    "import torch\r\n",
    "from torch.utils.data import DataLoader\r\n",
    "from torchtext.data.utils import get_tokenizer\r\n",
    "from torch.optim.lr_scheduler import StepLR,LambdaLR\r\n",
    "\r\n",
    "import matplotlib.pyplot as plt\r\n",
    "import numpy as np\r\n",
    "from utils import *\r\n",
    "from my_transformer import *\r\n",
    "\r\n",
    "%matplotlib inline\r\n",
    "\r\n",
    "SEED = 42\r\n",
    "np.random.seed(SEED)\r\n",
    "torch.manual_seed(SEED)\r\n",
    "torch.cuda.manual_seed(SEED)\r\n",
    "torch.backends.cudnn.deterministic = True\r\n",
    "# torch.use_deterministic_algorithms(True)"
   ]
  },
  {
   "cell_type": "markdown",
   "metadata": {},
   "source": [
    "## Data Prerocessing"
   ]
  },
  {
   "cell_type": "code",
   "execution_count": 6,
   "metadata": {},
   "outputs": [],
   "source": [
    "pth_base = \"./.data/multi30k/task1/raw/\"\r\n",
    "train_pths = ('train.de', 'train.en')\r\n",
    "val_pths = ('val.de', 'val.en')\r\n",
    "test_pths = ('test_2016_flickr.de', 'test_2016_flickr.en')\r\n",
    "\r\n",
    "train_filepaths = [(pth_base + pth) for pth in train_pths]\r\n",
    "val_filepaths = [(pth_base + pth) for pth in val_pths]\r\n",
    "test_filepaths = [(pth_base + pth) for pth in test_pths]\r\n",
    "\r\n",
    "de_tokenizer = get_tokenizer('spacy', language='de_core_news_sm')\r\n",
    "en_tokenizer = get_tokenizer('spacy', language='en_core_web_sm')\r\n",
    "\r\n",
    "de_vocab = build_vocab(train_filepaths[0], de_tokenizer, min_freq=1)\r\n",
    "en_vocab = build_vocab(train_filepaths[1], en_tokenizer, min_freq=1)\r\n",
    "\r\n",
    "train_data = sen2tensor(train_filepaths, de_vocab, en_vocab, de_tokenizer, en_tokenizer)\r\n",
    "val_data = sen2tensor(val_filepaths, de_vocab, en_vocab, de_tokenizer, en_tokenizer)\r\n",
    "test_data = sen2tensor(test_filepaths, de_vocab, en_vocab, de_tokenizer, en_tokenizer)\r\n",
    "device = torch.device('cuda' if torch.cuda.is_available() else 'cpu')"
   ]
  },
  {
   "cell_type": "code",
   "execution_count": null,
   "metadata": {},
   "outputs": [],
   "source": []
  },
  {
   "cell_type": "code",
   "execution_count": 7,
   "metadata": {},
   "outputs": [
    {
     "name": "stdout",
     "output_type": "stream",
     "text": [
      "cpu\n",
      "train size: 29000\n",
      "val size: 1014\n",
      "test size: 1000\n",
      "de vocab size: 18669\n",
      "en vocab size: 9795\n"
     ]
    }
   ],
   "source": [
    "print(device)\n",
    "print(\"train size:\", len(train_data))\n",
    "print(\"val size:\", len(val_data))\n",
    "print(\"test size:\", len(test_data))\n",
    "print(\"de vocab size:\", len(de_vocab))\n",
    "print(\"en vocab size:\", len(en_vocab))"
   ]
  },
  {
   "cell_type": "markdown",
   "metadata": {},
   "source": [
    "## Hyper-parameters Tuning"
   ]
  },
  {
   "cell_type": "code",
   "execution_count": 8,
   "metadata": {},
   "outputs": [],
   "source": [
    "SRC_VOCAB_SIZE = len(de_vocab)\r\n",
    "TGT_VOCAB_SIZE = len(en_vocab)\r\n",
    "BATCH_SIZE = 128\r\n",
    "NUM_ENCODER_LAYERS = 3 # no help, 3 is better\r\n",
    "NUM_DECODER_LAYERS = 3 # no help, 3 is better\r\n",
    "EMB_SIZE = 256\r\n",
    "FFN_HID_DIM = 512\r\n",
    "NHEAD = 8 # no help, hard converge\r\n",
    "DROPOUT = 0.1\r\n",
    "NUM_EPOCHS = 50\r\n",
    "LEARNING_RATE = 0.0001\r\n",
    "\r\n",
    "# LR_STEP = 30\r\n",
    "# warmup_steps = 4000\r\n",
    "model_name = \"../models/transformer-6-5-1\""
   ]
  },
  {
   "cell_type": "code",
   "execution_count": 9,
   "metadata": {},
   "outputs": [],
   "source": [
    "PAD_IDX = de_vocab['<pad>']\n",
    "BOS_IDX = de_vocab['<bos>']\n",
    "EOS_IDX = de_vocab['<eos>']\n",
    "\n",
    "train_iter = DataLoader(train_data, batch_size=BATCH_SIZE, shuffle=True, collate_fn=get_collate_fn(PAD_IDX,BOS_IDX,EOS_IDX))\n",
    "valid_iter = DataLoader(val_data, batch_size=BATCH_SIZE, shuffle=True, collate_fn=get_collate_fn(PAD_IDX,BOS_IDX,EOS_IDX))\n",
    "test_iter = DataLoader(test_data, batch_size=BATCH_SIZE, shuffle=True, collate_fn=get_collate_fn(PAD_IDX,BOS_IDX,EOS_IDX))"
   ]
  },
  {
   "cell_type": "markdown",
   "metadata": {},
   "source": [
    "## Model Setup"
   ]
  },
  {
   "cell_type": "code",
   "execution_count": 10,
   "metadata": {},
   "outputs": [],
   "source": [
    "transformer = MyTf(NUM_ENCODER_LAYERS, NUM_DECODER_LAYERS, \n",
    "                   EMB_SIZE, NHEAD, SRC_VOCAB_SIZE, TGT_VOCAB_SIZE, PAD_IDX,\n",
    "                   FFN_HID_DIM, DROPOUT)\n",
    "\n",
    "transformer = transformer.to(device)\n",
    "\n",
    "# lrate = lambda step_num: EMB_SIZE**-0.5 * np.minimum(step_num**-0.5,step_num*warmup_steps**-1.5)\n",
    "\n",
    "# scheduler = StepLR(optimizer, step_size=LR_STEP, gamma=0.1)\n",
    "\n",
    "loss_fn = torch.nn.CrossEntropyLoss(ignore_index=PAD_IDX)\n",
    "\n",
    "optimizer = torch.optim.Adam(transformer.parameters(), lr=LEARNING_RATE, betas=(0.9, 0.98), eps=1e-9)"
   ]
  },
  {
   "cell_type": "code",
   "execution_count": 11,
   "metadata": {},
   "outputs": [
    {
     "name": "stdout",
     "output_type": "stream",
     "text": [
      "The model has 13,758,787 trainable parameters\n"
     ]
    }
   ],
   "source": [
    "print(f'The model has {count_parameters(transformer):,} trainable parameters')"
   ]
  },
  {
   "cell_type": "markdown",
   "metadata": {},
   "source": [
    "## Train and Evaluate"
   ]
  },
  {
   "cell_type": "code",
   "execution_count": 12,
   "metadata": {},
   "outputs": [],
   "source": [
    "train_loss_curve = []\n",
    "val_loss_curve = []\n",
    "min_val_loss = 999\n",
    "steps = 1"
   ]
  },
  {
   "cell_type": "code",
   "execution_count": null,
   "metadata": {},
   "outputs": [],
   "source": [
    "for epoch in range(1, NUM_EPOCHS+1):\r\n",
    "    start_time = time.time()\r\n",
    "    train_loss = train(transformer, train_iter, optimizer, loss_fn, device)\r\n",
    "    end_time = time.time()\r\n",
    "    val_loss = evaluate(transformer, valid_iter, loss_fn, device)\r\n",
    "#     scheduler.step()\r\n",
    "    \r\n",
    "    if val_loss < min_val_loss:\r\n",
    "        min_val_loss = val_loss\r\n",
    "        transformer.eval()\r\n",
    "        torch.save(transformer, model_name+\"-best.pth.tar\")\r\n",
    "        \r\n",
    "    if epoch % 30 == 0:\r\n",
    "        transformer.eval()\r\n",
    "        torch.save(transformer, model_name+\"-ckpt-\"+str(epoch)+\".pth.tar\")\r\n",
    "        \r\n",
    "    train_loss_curve.append(train_loss)\r\n",
    "    val_loss_curve.append(val_loss)\r\n",
    "\r\n",
    "    print((f\"Epoch: {epoch}, Train loss: {train_loss:.3f}, Val loss: {val_loss:.3f}, Epoch time = {(end_time - start_time):.3f}s\"))"
   ]
  },
  {
   "cell_type": "code",
   "execution_count": 11,
   "metadata": {},
   "outputs": [
    {
     "name": "stdout",
     "output_type": "stream",
     "text": [
      "min val loss: 2.6621683537960052\n"
     ]
    },
    {
     "data": {
      "image/png": "[encoded data removed]",
      "text/plain": "<Figure size 432x288 with 1 Axes>"
     },
     "metadata": {
      "needs_background": "light"
     },
     "output_type": "display_data"
    }
   ],
   "source": [
    "print(\"min val loss:\",min_val_loss)\r\n",
    "plt.plot(train_loss_curve)\r\n",
    "plt.plot(val_loss_curve)\r\n",
    "plt.grid()\r\n",
    "plt.xlabel(\"Epoch\")\r\n",
    "plt.ylabel(\"Loss\")\r\n",
    "plt.legend((\"train loss\",\"val loss\"))\r\n",
    "plt.savefig(\"../images/\" + model_name.split(sep=\"/\")[-1] + \".png\")\r\n",
    "plt.show()"
   ]
  },
  {
   "cell_type": "code",
   "execution_count": 12,
   "metadata": {},
   "outputs": [
    {
     "data": {
      "text/plain": "' a group of people standing in front of a <unk> . '"
     },
     "execution_count": 12,
     "metadata": {},
     "output_type": "execute_result"
    }
   ],
   "source": [
    "translate(transformer, \"eine gruppe von menschen steht vor einem iglu .\", de_vocab, en_vocab,de_tokenizer, BOS_IDX, EOS_IDX, device)"
   ]
  },
  {
   "cell_type": "markdown",
   "metadata": {},
   "source": [
    "## Save the Model"
   ]
  },
  {
   "cell_type": "code",
   "execution_count": null,
   "metadata": {},
   "outputs": [],
   "source": [
    "transformer.eval()\n",
    "torch.save(transformer, model_name + \".pth.tar\")"
   ]
  },
  {
   "cell_type": "markdown",
   "metadata": {},
   "source": [
    "## Calculate the BLEU Score"
   ]
  },
  {
   "cell_type": "code",
   "execution_count": null,
   "metadata": {},
   "outputs": [],
   "source": [
    "'''load reference'''\n",
    "with open(test_filepaths[0], 'r', encoding='utf8') as f:\n",
    "    test_data_ = f.readlines()\n",
    "    \n",
    "'''make predictions'''\n",
    "predictions = []\n",
    "for data in test_data_:\n",
    "    temp_trans = translate(transformer, data.lower(), de_vocab, en_vocab, de_tokenizer, BOS_IDX, EOS_IDX, device)\n",
    "    predictions.append(temp_trans[1:-3]+\" . \\n\")\n",
    "\n",
    "'''update predictions.txt'''\n",
    "with open(\"predictions.txt\",'w+') as f:\n",
    "    f.writelines(predictions)"
   ]
  },
  {
   "cell_type": "code",
   "execution_count": null,
   "metadata": {},
   "outputs": [],
   "source": [
    "'''eliminate <unk>''' \n",
    "# for i,pre in enumerate(predictions):\n",
    "#     predictions[i] = pre.replace(\"<unk>\",\" \")\n",
    "# '''update predictions.txt'''\n",
    "# with open(\"predictions.txt\",'w+') as f:\n",
    "#     f.writelines(predictions)"
   ]
  },
  {
   "cell_type": "code",
   "execution_count": 13,
   "metadata": {},
   "outputs": [
    {
     "name": "stdout",
     "output_type": "stream",
     "text": [
      "BLEU = 37.14, 70.6/45.7/30.7/21.1 (BP=0.976, ratio=0.977, hyp_len=12752, ref_len=13058)\n"
     ]
    },
    {
     "ename": "NameError",
     "evalue": "name 'predictions' is not defined",
     "output_type": "error",
     "traceback": [
      "\u001b[1;31m---------------------------------------------------------------------------\u001b[0m",
      "\u001b[1;31mNameError\u001b[0m                                 Traceback (most recent call last)",
      "\u001b[1;32m<ipython-input-13-b9a892ea5e75>\u001b[0m in \u001b[0;36m<module>\u001b[1;34m\u001b[0m\n\u001b[0;32m      2\u001b[0m \u001b[1;33m\u001b[0m\u001b[0m\n\u001b[0;32m      3\u001b[0m \u001b[1;32mwith\u001b[0m \u001b[0mopen\u001b[0m\u001b[1;33m(\u001b[0m\u001b[0mmodel_name\u001b[0m \u001b[1;33m+\u001b[0m \u001b[1;34m\".txt\"\u001b[0m\u001b[1;33m,\u001b[0m\u001b[1;34m'w+'\u001b[0m\u001b[1;33m)\u001b[0m \u001b[1;32mas\u001b[0m \u001b[0mf\u001b[0m\u001b[1;33m:\u001b[0m\u001b[1;33m\u001b[0m\u001b[1;33m\u001b[0m\u001b[0m\n\u001b[1;32m----> 4\u001b[1;33m     \u001b[0mf\u001b[0m\u001b[1;33m.\u001b[0m\u001b[0mwritelines\u001b[0m\u001b[1;33m(\u001b[0m\u001b[0mpredictions\u001b[0m\u001b[1;33m)\u001b[0m\u001b[1;33m\u001b[0m\u001b[1;33m\u001b[0m\u001b[0m\n\u001b[0m",
      "\u001b[1;31mNameError\u001b[0m: name 'predictions' is not defined"
     ]
    }
   ],
   "source": [
    "! perl ./multi-bleu.perl -lc reference.txt < predictions.txt\r\n",
    "\r\n",
    "with open(model_name + \".txt\",'w+') as f:    \r\n",
    "    f.writelines(predictions)"
   ]
  },
  {
   "cell_type": "code",
   "execution_count": null,
   "metadata": {},
   "outputs": [],
   "source": [
    "from torchtext.data.metrics import bleu_score\n",
    "references_corpus  = []\n",
    "candidate_corpus = []\n",
    "'''update reference.txt'''\n",
    "'''update reference.txt'''\n",
    "with open(test_filepaths[1], 'r', encoding='utf8') as f:\n",
    "    reference = f.readlines()\n",
    "\n",
    "for i in range(len(reference)):\n",
    "    reference[i] = \" \".join(en_tokenizer(reference[i])).lower()\n",
    "\n",
    "for pred,ref in zip(predictions, reference):\n",
    "    temp = pred.rstrip(\" \\n\").split(\" \")\n",
    "    candidate_corpus.append(temp)\n",
    "    temp = ref.rstrip(\" \\n\").split(\" \")\n",
    "    references_corpus.append([temp])\n",
    "bleu_torchtext = bleu_score(candidate_corpus, references_corpus)\n",
    "print(f'BLEU score = {bleu_torchtext*100:.2f}')"
   ]
  }
 ],
 "metadata": {
  "kernelspec": {
   "display_name": "Python 3.8.3 64-bit ('base': conda)",
   "name": "python383jvsc74a57bd0b3ba2566441a7c06988d0923437866b63cedc61552a5af99d1f4fb67d367b25f"
  },
  "language_info": {
   "name": "python",
   "version": ""
  },
  "orig_nbformat": 2
 },
 "nbformat": 4,
 "nbformat_minor": 2
}